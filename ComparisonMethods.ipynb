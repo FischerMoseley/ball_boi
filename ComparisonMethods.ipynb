{
  "nbformat": 4,
  "nbformat_minor": 0,
  "metadata": {
    "colab": {
      "name": "ComparisonMethods.ipynb",
      "provenance": [],
      "collapsed_sections": []
    },
    "kernelspec": {
      "name": "python3",
      "display_name": "Python 3"
    },
    "language_info": {
      "name": "python"
    }
  },
  "cells": [
    {
      "cell_type": "code",
      "metadata": {
        "id": "29M_SNBcTezC",
        "outputId": "0f5eccd7-a77c-4ea2-b2a2-bdc812da76da",
        "colab": {
          "base_uri": "https://localhost:8080/"
        }
      },
      "source": [
        "import importlib\n",
        "import sys\n",
        "from urllib.request import urlretrieve\n",
        "\n",
        "# Install drake (and underactuated).\n",
        "if 'google.colab' in sys.modules and importlib.util.find_spec('underactuated') is None:\n",
        "    urlretrieve(f\"http://underactuated.csail.mit.edu/scripts/setup/setup_underactuated_colab.py\",\n",
        "                \"setup_underactuated_colab.py\")\n",
        "    from setup_underactuated_colab import setup_underactuated\n",
        "    setup_underactuated(underactuated_sha='15cfd96b0bdfd1b0c67597c24f91907776c02a6d', drake_version='0.27.0', drake_build='release')\n",
        "\n",
        "server_args = []\n",
        "if 'google.colab' in sys.modules:\n",
        "  server_args = ['--ngrok_http_tunnel']\n",
        "# Start a single meshcat server instance to use for the remainder of this notebook.\n",
        "from meshcat.servers.zmqserver import start_zmq_server_as_subprocess\n",
        "proc_planar, zmq_url_planar, web_url_planar = start_zmq_server_as_subprocess(server_args=server_args)\n",
        "proc, zmq_url, web_url = start_zmq_server_as_subprocess(server_args=server_args)\n",
        "\n",
        "import numpy as np\n",
        "from ipywidgets import FloatSlider, ToggleButton\n",
        "from IPython.display import display, SVG, HTML\n",
        "import pydot\n",
        "\n",
        "import pydrake.all\n",
        "from pydrake.all import (\n",
        "    MultibodyPlant, DiagramBuilder, LinearQuadraticRegulator, Saturation, SceneGraph, Simulator, \n",
        "    WrapToSystem, AddMultibodyPlantSceneGraph, Parser, MathematicalProgram, eq, PiecewisePolynomial,\n",
        "    SnoptSolver, TrajectorySource, MultibodyPositionToGeometryPose, PlanarSceneGraphVisualizer\n",
        ")\n",
        "from pydrake.examples.acrobot import AcrobotPlant, AcrobotGeometry\n",
        "from pydrake.systems.jupyter_widgets import WidgetSystem\n",
        "from pydrake.common.containers import namedview\n",
        "from underactuated import FindResource\n",
        "from underactuated.jupyter import running_as_notebook\n",
        "import matplotlib.pyplot as plt\n"
      ],
      "execution_count": 1,
      "outputs": [
        {
          "output_type": "stream",
          "text": [
            "Cloning into '/opt/underactuated'...\n",
            "\n",
            "HEAD is now at 15cfd96 and again\n",
            "\n",
            "ERROR: torchtext 0.9.1 has requirement torch==1.8.1, but you'll have torch 1.7.1 which is incompatible.\n",
            "ERROR: bokeh 2.3.2 has requirement pillow>=7.1.0, but you'll have pillow 7.0.0 which is incompatible.\n",
            "ERROR: albumentations 0.1.12 has requirement imgaug<0.2.7,>=0.2.5, but you'll have imgaug 0.2.9 which is incompatible.\n",
            "\n",
            "\n",
            "WARNING: apt does not have a stable CLI interface. Use with caution in scripts.\n",
            "\n",
            "\n"
          ],
          "name": "stdout"
        }
      ]
    },
    {
      "cell_type": "markdown",
      "metadata": {
        "id": "uVJIy1MtwhY3"
      },
      "source": [
        "Notebook Goals:\n",
        "\n",
        "*   Function to evaluate integrated cost (ie. total cost it took to get there), can break up by state (away from target state) and actuation state -> quad cost function\n",
        "*   Function to evaluate and graph time to steady state (ie. settling time)\n",
        "*   Function to evaluate and graph overshoot (both types, in x and in theta)\n",
        "*   Function to evaluate and graph average tilt angle\n",
        "\n"
      ]
    },
    {
      "cell_type": "markdown",
      "metadata": {
        "id": "73jYPWbzwwJL"
      },
      "source": [
        "Inputs to each function:\n",
        "\n",
        "$q[t]$ - the state ($x, \\theta$) for each $t$\n",
        "\n",
        "$u[t]$ - the actuation input ($u_x, u_\\theta$) for each $t$\n",
        "\n",
        "goal - the goal state ($x_{tf}, \\theta_{tf}$)\n",
        "\n",
        "$T$ - the total time"
      ]
    },
    {
      "cell_type": "code",
      "metadata": {
        "id": "BI5fkaMCKyxc"
      },
      "source": [
        "def integrated_cost(q, u, goal, T):\n",
        "  total_distance_from_target = 0\n",
        "  total_actuation = 0\n",
        "  goal_x = goal[0]\n",
        "\n",
        "  for t in range(len(q)):\n",
        "    cur_x = q[t][0]\n",
        "    distance = (cur_x**2 + goal_x**2)**0.5\n",
        "    total_distance_from_target += distance\n",
        "\n",
        "    total_actuation += u[t][0]  # assuming u_x = u_theta since that's what Jorge said\n",
        "\n",
        "  return total_distance_from_target/len(q), total_actuation/len(q)\n"
      ],
      "execution_count": 2,
      "outputs": []
    },
    {
      "cell_type": "code",
      "metadata": {
        "id": "1TywwleyrO4x"
      },
      "source": [
        "def cost_breakdown(q, u, goal, T, display=False, yscale=\"linear\"):\n",
        "  total_distance_from_target = 0\n",
        "  total_actuation = 0\n",
        "  goal_x = goal[0]\n",
        "\n",
        "  distance_from_target = np.array([(q[t][0]**2 + goal_x**2)**0.5 for t in range(len(q))])\n",
        "  actuation = np.array([u[t][0] for t in range(len(q))])  # assuming u_x = u_theta since that's what Jorge said\n",
        "\n",
        "  distance_squared = distance_from_target**2\n",
        "  actuation_squared = actuation**2\n",
        "  cost = distance_squared + actuation_squared\n",
        "  total_cost = np.sum(cost)\n",
        "\n",
        "  if display:\n",
        "    cost_sum = np.zeros(cost.shape)\n",
        "    total = 0\n",
        "    for i in range(cost.shape[0]):\n",
        "      total += cost[i]\n",
        "      cost_sum[i] = total\n",
        "\n",
        "    time_steps = len(q)\n",
        "    increment = T/time_steps\n",
        "    times = [t*increment for t in range (len(q))]\n",
        "    plt.plot(times, distance_from_target, label=\"Distance From Target\")\n",
        "    plt.plot(times, actuation, label=\"Actuation\")\n",
        "    plt.plot(times, cost, label=\"Cost\")\n",
        "    plt.plot(times, cost_sum, label=\"Total Cost\")\n",
        "    plt.yscale(yscale)\n",
        "    plt.legend()\n",
        "    plt.show()\n",
        "\n",
        "  return distance_from_target, actuation, cost, total_cost"
      ],
      "execution_count": 3,
      "outputs": []
    },
    {
      "cell_type": "code",
      "metadata": {
        "id": "2_SRe6LayXW5"
      },
      "source": [
        "def settling_time(q, u, goal, T, epsilon=1e-3):\n",
        "  \"\"\" Return None if never settled \"\"\"\n",
        "  settling_time = None\n",
        "  goal_x = goal[0]\n",
        "\n",
        "  for t in range(q.shape[0] - 1, -1, -1):\n",
        "    cur_x = q[t][0]\n",
        "    if abs(cur_x - goal_x) > epsilon:  # meaning, they're unequal\n",
        "      settling_time = t + 1\n",
        "      break\n",
        "\n",
        "  if abs(q[-1][0] - goal_x) > epsilon:\n",
        "    return None\n",
        "\n",
        "  time_steps = len(q)\n",
        "  increment = T/time_steps\n",
        "  settling_time *= increment\n",
        "  return settling_time"
      ],
      "execution_count": 36,
      "outputs": []
    },
    {
      "cell_type": "code",
      "metadata": {
        "id": "b7v7Cd5y0jlf"
      },
      "source": [
        "def overshoot(q, u, goal, T, epsilon=1e-3, display=False):\n",
        "  \"\"\" Return None if never reached goal \"\"\"\n",
        "  settling_time = None\n",
        "  goal_x = goal[0]\n",
        "  start_x = q[0][0]\n",
        "  timestep_reached_goal = None\n",
        "\n",
        "  if start_x < goal_x:\n",
        "    for t in range(len(q)):\n",
        "      cur_x = q[t][0]\n",
        "      if cur_x + epsilon >= goal_x:\n",
        "        timestep_reached_goal = t  # overestimate if not exactly equal\n",
        "        break\n",
        "  else:\n",
        "    for t in range(len(q)):\n",
        "      cur_x = q[t][0]\n",
        "      if cur_x - epsilon <= goal_x:\n",
        "        timestep_reached_goal = t  # overestimate if not exactly equal\n",
        "        break\n",
        "\n",
        "  total_overshoot = 0\n",
        "  for t in range(timestep_reached_goal, len(q)):\n",
        "    cur_x = q[t][0]\n",
        "    total_overshoot += abs(goal_x - cur_x)\n",
        "\n",
        "  if display:\n",
        "    # here, I'll plot the distance from goal as a function of time\n",
        "    xs = np.array([q[t][0] for t in range(len(q))])\n",
        "    distances = xs - goal_x\n",
        "    time_steps = len(q)\n",
        "    increment = T/time_steps\n",
        "    times = [t*increment for t in range(len(q))]\n",
        "    plt.plot(times, distances)\n",
        "    plt.title(\"Distance from Goal\")\n",
        "    plt.xlabel(\"Time (s)\")\n",
        "    plt.ylabel(\"Distance\")\n",
        "    plt.show()\n",
        "\n",
        "  return total_overshoot/len(q)  # can def change this"
      ],
      "execution_count": 70,
      "outputs": []
    },
    {
      "cell_type": "code",
      "metadata": {
        "id": "WNvX8abfPpSM"
      },
      "source": [
        "def tilt_angle(q, u, goal, T, display=False):\n",
        "  \"\"\" Return None if never reached goal \"\"\"\n",
        "  tilt_angles = np.array([q[t][1] for t in range(len(q))])\n",
        "  tilt_from_goal = tilt_angles - goal[1]\n",
        "\n",
        "  if display:\n",
        "    # here, I'll plot the tilt angle from goal as a function of time\n",
        "    time_steps = len(q)\n",
        "    increment = T/time_steps\n",
        "    times = [t*increment for t in range (len(q))]\n",
        "    plt.plot(times, tilt_angles, label=\"tilt angle\")\n",
        "    plt.plot(times, tilt_from_goal, label=\"tilt angle from target\")\n",
        "    plt.show()\n",
        "\n",
        "  return np.mean(tilt_angles)"
      ],
      "execution_count": 6,
      "outputs": []
    },
    {
      "cell_type": "markdown",
      "metadata": {
        "id": "2CLurZCTqy44"
      },
      "source": [
        "## Graphing"
      ]
    },
    {
      "cell_type": "code",
      "metadata": {
        "id": "vPPbjYWbr9jx"
      },
      "source": [
        "# example trajectories\n",
        "goal = [0,0]\n",
        "T = 20\n",
        "u1 = np.random.rand(T, 2)\n",
        "q1 = np.array([[t/10, .2] for t in range(T//2, 0, -1)] + [[t/10 - (T//2)/10, .1] for t in range(T//2, T)])\n",
        "u2 = np.random.rand(T, 2)\n",
        "q2 = np.array([[t/20, .2] for t in range(T//2, 0, -1)] + [[t/10 - (T//2)/20, .1] for t in range(T//2, T)])"
      ],
      "execution_count": 7,
      "outputs": []
    },
    {
      "cell_type": "markdown",
      "metadata": {
        "id": "bvWsMf2Tq7Mt"
      },
      "source": [
        "Take in many trajectories and compare costs/how they accumulate costs over time"
      ]
    },
    {
      "cell_type": "code",
      "metadata": {
        "id": "jSBSdcNAquEl",
        "colab": {
          "base_uri": "https://localhost:8080/"
        },
        "outputId": "307cb3be-de12-45a2-a37b-28657dda4de0"
      },
      "source": [
        "integrated_cost(q1, u1, goal, T)"
      ],
      "execution_count": 8,
      "outputs": [
        {
          "output_type": "execute_result",
          "data": {
            "text/plain": [
              "(0.5, 0.5449717990082711)"
            ]
          },
          "metadata": {
            "tags": []
          },
          "execution_count": 8
        }
      ]
    },
    {
      "cell_type": "code",
      "metadata": {
        "id": "qHJ1_DsEtZvA",
        "colab": {
          "base_uri": "https://localhost:8080/",
          "height": 471
        },
        "outputId": "231fdf8f-569c-4f89-e9ee-c2a567d6f5d7"
      },
      "source": [
        "cost_breakdown(q1, u1, goal, T, display=True, yscale=\"linear\")"
      ],
      "execution_count": 9,
      "outputs": [
        {
          "output_type": "display_data",
          "data": {
            "image/png": "[encoded data removed]",
            "text/plain": [
              "<Figure size 432x288 with 1 Axes>"
            ]
          },
          "metadata": {
            "tags": [],
            "needs_background": "light"
          }
        },
        {
          "output_type": "execute_result",
          "data": {
            "text/plain": [
              "(array([1. , 0.9, 0.8, 0.7, 0.6, 0.5, 0.4, 0.3, 0.2, 0.1, 0. , 0.1, 0.2,\n",
              "        0.3, 0.4, 0.5, 0.6, 0.7, 0.8, 0.9]),\n",
              " array([0.97186366, 0.92667756, 0.80765944, 0.25281154, 0.70942216,\n",
              "        0.24408929, 0.96013154, 0.47087223, 0.42288536, 0.4264636 ,\n",
              "        0.76422103, 0.07706792, 0.46376039, 0.91082015, 0.73410852,\n",
              "        0.53703067, 0.89946105, 0.09279068, 0.10849862, 0.11880056]),\n",
              " array([1.94451898, 1.66873129, 1.29231376, 0.55391368, 0.86327981,\n",
              "        0.30957958, 1.08185257, 0.31172066, 0.21883203, 0.1918712 ,\n",
              "        0.58403379, 0.01593946, 0.2550737 , 0.91959335, 0.69891532,\n",
              "        0.53840194, 1.16903019, 0.49861011, 0.65177195, 0.82411357]),\n",
              " 14.592096939993077)"
            ]
          },
          "metadata": {
            "tags": []
          },
          "execution_count": 9
        }
      ]
    },
    {
      "cell_type": "code",
      "metadata": {
        "id": "KIRPZsAFtwFA"
      },
      "source": [
        "def graph_cost_breakdowns(q, u, goal, T, cost_type, controller_labels=None):\n",
        "  \"\"\" Inputs q, u are of shape (num_traj, num_time_steps, 2) \"\"\"\n",
        "  distances = np.zeros(q.shape[:2])\n",
        "  actuations = np.zeros(q.shape[:2])\n",
        "  costs = np.zeros(q.shape[:2])\n",
        "\n",
        "  for i in range(len(q)):\n",
        "    traj = q[i]\n",
        "    actuation = u[i]\n",
        "    distances[i, :], actuations[i, :], costs[i, :], total_cost = cost_breakdown(traj, actuation, goal, T)\n",
        "\n",
        "  time_steps = len(q)\n",
        "  increment = T/time_steps\n",
        "  times = [t*increment for t in range (q.shape[1])]\n",
        "\n",
        "  if controller_labels is None:\n",
        "    controller_labels = [\"\" for i in range(q.shape[0])]\n",
        "    labels = False \n",
        "  else:\n",
        "    labels = True\n",
        "\n",
        "  for i in range(q.shape[0]):\n",
        "    if cost_type == \"Distance\":\n",
        "      plt.plot(times, distances[i], label=controller_labels[i])\n",
        "    elif cost_type == \"Distance squared\":\n",
        "      plt.plot(times, distances[i]**2, label=controller_labels[i])\n",
        "    elif cost_type == \"Actuation\":\n",
        "      plt.plot(times, actuations[i], label=controller_labels[i])\n",
        "    elif cost_type == \"Actuation squared\":\n",
        "      plt.plot(times, actuations[i]**2, label=controller_labels[i])\n",
        "    elif cost_type == \"Cost\":\n",
        "      plt.plot(times, costs[i], label=controller_labels[i])\n",
        "    else:\n",
        "      print(\"cost_type not supported\")\n",
        "\n",
        "  if labels:\n",
        "    plt.legend()\n",
        "  plt.title(cost_type)\n",
        "  plt.show()\n"
      ],
      "execution_count": 10,
      "outputs": []
    },
    {
      "cell_type": "code",
      "metadata": {
        "id": "U21EfQ7K1bDC",
        "colab": {
          "base_uri": "https://localhost:8080/",
          "height": 281
        },
        "outputId": "7913786b-a19c-483b-a131-bb816861f442"
      },
      "source": [
        "graph_cost_breakdowns(np.array([q1, q2]), np.array([u1, u2]), goal, T, \"Actuation squared\", controller_labels=[\"controller1\", \"controller2\"])"
      ],
      "execution_count": 11,
      "outputs": [
        {
          "output_type": "display_data",
          "data": {
            "image/png": "[encoded data removed]",
            "text/plain": [
              "<Figure size 432x288 with 1 Axes>"
            ]
          },
          "metadata": {
            "tags": [],
            "needs_background": "light"
          }
        }
      ]
    },
    {
      "cell_type": "code",
      "metadata": {
        "id": "WwaVJ35G1iaS",
        "outputId": "57de463a-1790-4e0d-9cfd-2e1b36e0a651",
        "colab": {
          "base_uri": "https://localhost:8080/"
        }
      },
      "source": [
        "settling_time(q1, u1, [0.9, 0], T)"
      ],
      "execution_count": 37,
      "outputs": [
        {
          "output_type": "execute_result",
          "data": {
            "text/plain": [
              "19.0"
            ]
          },
          "metadata": {
            "tags": []
          },
          "execution_count": 37
        }
      ]
    },
    {
      "cell_type": "code",
      "metadata": {
        "id": "63esHF0PE7uW"
      },
      "source": [
        "def graph_settling_times(q, u, goal, T, epsilon=1e-3, controller_labels=None):\n",
        "  \"\"\" Inputs q, u are of shape (num_traj, num_time_steps, 2) \"\"\"\n",
        "  num_traj, num_time_steps = q.shape[0], q.shape[1]\n",
        "\n",
        "  if controller_labels is None:\n",
        "    alp = 'abcdefghijklmnopqrstuvwxyz'\n",
        "    controller_labels = [alp[i] for i in range(q.shape[0])]\n",
        "\n",
        "  if len(controller_labels) != num_traj:\n",
        "    print(f\"mismatched lengths: {len(controller_labels)} != {num_traj}\")\n",
        "    return\n",
        "\n",
        "  settling_times = np.zeros(num_traj)\n",
        "  for i in range(num_traj):\n",
        "    traj = q[i]\n",
        "    actuation = u[i]\n",
        "    time = settling_time(traj, actuation, goal, T, epsilon=epsilon)\n",
        "    settling_times[i] = time if time is not None else T+10\n",
        "\n",
        "  fig = plt.figure()\n",
        "  ax = fig.add_axes([0,0,1,1])\n",
        "  ax.bar(controller_labels, settling_times)\n",
        "  plt.ylim([0, T+1])\n",
        "  plt.title(\"Settling Times of Various Controllers\")\n",
        "  plt.show()"
      ],
      "execution_count": 58,
      "outputs": []
    },
    {
      "cell_type": "code",
      "metadata": {
        "id": "B2iRNE7WGDrI",
        "outputId": "b9afb48a-be74-44da-9a15-378a7b83da1a",
        "colab": {
          "base_uri": "https://localhost:8080/",
          "height": 352
        }
      },
      "source": [
        "graph_settling_times(np.array([q1, q2]), np.array([u1, u2]), [0.9, 0], T, epsilon=1e-3, controller_labels=None)"
      ],
      "execution_count": 59,
      "outputs": [
        {
          "output_type": "display_data",
          "data": {
            "image/png": "[encoded data removed]",
            "text/plain": [
              "<Figure size 432x288 with 1 Axes>"
            ]
          },
          "metadata": {
            "tags": [],
            "needs_background": "light"
          }
        }
      ]
    },
    {
      "cell_type": "code",
      "metadata": {
        "id": "Yd9Fyj5kGIOz",
        "outputId": "cebb5b3b-4db2-48c4-8f94-0c71a41ed306",
        "colab": {
          "base_uri": "https://localhost:8080/",
          "height": 314
        }
      },
      "source": [
        "overshoot(q1, u1, goal, T, display=True)"
      ],
      "execution_count": 69,
      "outputs": [
        {
          "output_type": "display_data",
          "data": {
            "image/png": "[encoded data removed]",
            "text/plain": [
              "<Figure size 432x288 with 1 Axes>"
            ]
          },
          "metadata": {
            "tags": [],
            "needs_background": "light"
          }
        },
        {
          "output_type": "execute_result",
          "data": {
            "text/plain": [
              "0.225"
            ]
          },
          "metadata": {
            "tags": []
          },
          "execution_count": 69
        }
      ]
    },
    {
      "cell_type": "code",
      "metadata": {
        "id": "bD047YBSLdg7"
      },
      "source": [
        ""
      ],
      "execution_count": null,
      "outputs": []
    }
  ]
}