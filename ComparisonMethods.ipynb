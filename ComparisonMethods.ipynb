{
  "nbformat": 4,
  "nbformat_minor": 0,
  "metadata": {
    "colab": {
      "name": "ComparisonMethods.ipynb",
      "provenance": [],
      "collapsed_sections": []
    },
    "kernelspec": {
      "name": "python3",
      "display_name": "Python 3"
    },
    "language_info": {
      "name": "python"
    }
  },
  "cells": [
    {
      "cell_type": "code",
      "metadata": {
        "id": "29M_SNBcTezC",
        "colab": {
          "base_uri": "https://localhost:8080/"
        },
        "outputId": "4a6ac9e6-d06a-4d2a-a289-5b939acdf555"
      },
      "source": [
        "import importlib\n",
        "import sys\n",
        "from urllib.request import urlretrieve\n",
        "\n",
        "# Install drake (and underactuated).\n",
        "if 'google.colab' in sys.modules and importlib.util.find_spec('underactuated') is None:\n",
        "    urlretrieve(f\"http://underactuated.csail.mit.edu/scripts/setup/setup_underactuated_colab.py\",\n",
        "                \"setup_underactuated_colab.py\")\n",
        "    from setup_underactuated_colab import setup_underactuated\n",
        "    setup_underactuated(underactuated_sha='15cfd96b0bdfd1b0c67597c24f91907776c02a6d', drake_version='0.27.0', drake_build='release')\n",
        "\n",
        "server_args = []\n",
        "if 'google.colab' in sys.modules:\n",
        "  server_args = ['--ngrok_http_tunnel']\n",
        "# Start a single meshcat server instance to use for the remainder of this notebook.\n",
        "from meshcat.servers.zmqserver import start_zmq_server_as_subprocess\n",
        "proc_planar, zmq_url_planar, web_url_planar = start_zmq_server_as_subprocess(server_args=server_args)\n",
        "proc, zmq_url, web_url = start_zmq_server_as_subprocess(server_args=server_args)\n",
        "\n",
        "import numpy as np\n",
        "from ipywidgets import FloatSlider, ToggleButton\n",
        "from IPython.display import display, SVG, HTML\n",
        "import pydot\n",
        "\n",
        "import pydrake.all\n",
        "from pydrake.all import (\n",
        "    MultibodyPlant, DiagramBuilder, LinearQuadraticRegulator, Saturation, SceneGraph, Simulator, \n",
        "    WrapToSystem, AddMultibodyPlantSceneGraph, Parser, MathematicalProgram, eq, PiecewisePolynomial,\n",
        "    SnoptSolver, TrajectorySource, MultibodyPositionToGeometryPose, PlanarSceneGraphVisualizer\n",
        ")\n",
        "from pydrake.examples.acrobot import AcrobotPlant, AcrobotGeometry\n",
        "from pydrake.systems.jupyter_widgets import WidgetSystem\n",
        "from pydrake.common.containers import namedview\n",
        "from underactuated import FindResource\n",
        "from underactuated.jupyter import running_as_notebook\n"
      ],
      "execution_count": null,
      "outputs": [
        {
          "output_type": "stream",
          "text": [
            "Cloning into '/opt/underactuated'...\n",
            "\n",
            "HEAD is now at 15cfd96 and again\n",
            "\n",
            "ERROR: torchtext 0.9.1 has requirement torch==1.8.1, but you'll have torch 1.7.1 which is incompatible.\n",
            "ERROR: bokeh 2.3.2 has requirement pillow>=7.1.0, but you'll have pillow 7.0.0 which is incompatible.\n",
            "ERROR: albumentations 0.1.12 has requirement imgaug<0.2.7,>=0.2.5, but you'll have imgaug 0.2.9 which is incompatible.\n",
            "\n",
            "\n",
            "WARNING: apt does not have a stable CLI interface. Use with caution in scripts.\n",
            "\n",
            "\n"
          ],
          "name": "stdout"
        }
      ]
    },
    {
      "cell_type": "markdown",
      "metadata": {
        "id": "uVJIy1MtwhY3"
      },
      "source": [
        "Notebook Goals:\n",
        "\n",
        "*   Function to evaluate integrated cost (ie. total cost it took to get there), can break up by state (away from target state) and actuation state -> quad cost function\n",
        "*   Function to evaluate and graph time to steady state (ie. settling time)\n",
        "*   Function to evaluate and graph overshoot (both types, in x and in theta)\n",
        "*   Function to evaluate and graph average tilt angle\n",
        "\n"
      ]
    },
    {
      "cell_type": "markdown",
      "metadata": {
        "id": "73jYPWbzwwJL"
      },
      "source": [
        "Inputs to each function:\n",
        "\n",
        "$q[t]$ - the state ($x, \\theta$) for each $t$\n",
        "\n",
        "$u[t]$ - the actuation input ($u_x, u_\\theta$) for each $t$\n",
        "\n",
        "goal - the goal state ($x_{tf}, \\theta_{tf}$)\n",
        "\n",
        "$T$ - the total time"
      ]
    },
    {
      "cell_type": "code",
      "metadata": {
        "id": "BI5fkaMCKyxc"
      },
      "source": [
        "def integrated_cost(q, u, goal, T):\n",
        "  total_distance_from_target = 0\n",
        "  total_actuation = 0\n",
        "  goal_x = goal[0]\n",
        "\n",
        "  for t in range(len(q)):\n",
        "    cur_x = q[t][0]\n",
        "    distance = (cur_x**2 + goal_x**2)**0.5\n",
        "    total_distance_from_target += distance\n",
        "\n",
        "    total_actuation += u[t][0]  # assuming u_x = u_theta since that's what Jorge said\n",
        "\n",
        "  return total_distance_from_target/len(q), total_actuation/len(q)\n"
      ],
      "execution_count": null,
      "outputs": []
    },
    {
      "cell_type": "code",
      "metadata": {
        "id": "2_SRe6LayXW5"
      },
      "source": [
        "def settling_time(q, u, goal, T):\n",
        "  \"\"\" Return None if never settled \"\"\"\n",
        "  settling_time = None\n",
        "  goal_x = goal[0]\n",
        "\n",
        "  for t in range(len(q) - 1, -1, -1):\n",
        "    cur_x = q[t][0]\n",
        "    if cur_x != goal_x:\n",
        "      settling_time = t + 1\n",
        "      break\n",
        "\n",
        "  if q[-1][0] != goal[0]:\n",
        "    return None\n",
        "\n",
        "  time_steps = len(q)\n",
        "  increment = T/time_steps\n",
        "  settling_time *= increment\n",
        "  return settling_time"
      ],
      "execution_count": null,
      "outputs": []
    },
    {
      "cell_type": "code",
      "metadata": {
        "id": "b7v7Cd5y0jlf"
      },
      "source": [
        "def overshoot(q, u, goal, T, display=False):\n",
        "  \"\"\" Return None if never reached goal \"\"\"\n",
        "  settling_time = None\n",
        "  goal_x = goal[0]\n",
        "  start_x = q[0][0]\n",
        "  timestep_reached_goal = None\n",
        "\n",
        "  if start_x < goal_x:\n",
        "    for t in range(len(q)):\n",
        "      cur_x = q[t][0]\n",
        "      if cur_x >= goal_x:\n",
        "        timestep_reached_goal = t  # overestimate if not exactly equal\n",
        "        break\n",
        "  else:\n",
        "    for t in range(len(q)):\n",
        "      cur_x = q[t][0]\n",
        "      if cur_x <= goal_x:\n",
        "        timestep_reached_goal = t  # overestimate if not exactly equal\n",
        "        break\n",
        "\n",
        "  total_overshoot = 0\n",
        "  for t in range(timestep_reached_goal, len(q), -1):\n",
        "    cur_x = q[t][0]\n",
        "    total_overshoot += abs(goal_x - cur_x)\n",
        "\n",
        "  return total_overshoot/"
      ],
      "execution_count": null,
      "outputs": []
    }
  ]
}