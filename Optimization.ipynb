{
  "nbformat": 4,
  "nbformat_minor": 0,
  "metadata": {
    "colab": {
      "name": "6.832Project.ipynb",
      "provenance": [],
      "collapsed_sections": []
    },
    "kernelspec": {
      "name": "python3",
      "display_name": "Python 3"
    },
    "language_info": {
      "name": "python"
    }
  },
  "cells": [
    {
      "cell_type": "code",
      "metadata": {
        "id": "29M_SNBcTezC",
        "outputId": "6ea56583-c321-4dff-9d66-b6e2c2148920",
        "colab": {
          "base_uri": "https://localhost:8080/"
        }
      },
      "source": [
        "import importlib\n",
        "import sys\n",
        "from urllib.request import urlretrieve\n",
        "\n",
        "# Install drake (and underactuated).\n",
        "if 'google.colab' in sys.modules and importlib.util.find_spec('underactuated') is None:\n",
        "    urlretrieve(f\"http://underactuated.csail.mit.edu/scripts/setup/setup_underactuated_colab.py\",\n",
        "                \"setup_underactuated_colab.py\")\n",
        "    from setup_underactuated_colab import setup_underactuated\n",
        "    setup_underactuated(underactuated_sha='15cfd96b0bdfd1b0c67597c24f91907776c02a6d', drake_version='0.27.0', drake_build='release')\n",
        "\n",
        "server_args = []\n",
        "if 'google.colab' in sys.modules:\n",
        "  server_args = ['--ngrok_http_tunnel']\n",
        "# Start a single meshcat server instance to use for the remainder of this notebook.\n",
        "from meshcat.servers.zmqserver import start_zmq_server_as_subprocess\n",
        "proc_planar, zmq_url_planar, web_url_planar = start_zmq_server_as_subprocess(server_args=server_args)\n",
        "proc, zmq_url, web_url = start_zmq_server_as_subprocess(server_args=server_args)\n",
        "\n",
        "import numpy as np\n",
        "from ipywidgets import FloatSlider, ToggleButton\n",
        "from IPython.display import display, SVG\n",
        "import pydot\n",
        "\n",
        "import pydrake.all\n",
        "from pydrake.all import (\n",
        "    MultibodyPlant, DiagramBuilder, LinearQuadraticRegulator, Saturation, SceneGraph, Simulator, \n",
        "    WrapToSystem, AddMultibodyPlantSceneGraph, Parser\n",
        ")\n",
        "from pydrake.examples.acrobot import AcrobotPlant, AcrobotGeometry\n",
        "from pydrake.systems.jupyter_widgets import WidgetSystem\n",
        "from pydrake.common.containers import namedview\n",
        "from underactuated import FindResource\n",
        "from underactuated.jupyter import running_as_notebook\n"
      ],
      "execution_count": 3,
      "outputs": [
        {
          "output_type": "stream",
          "text": [
            "Cloning into '/opt/underactuated'...\n",
            "\n",
            "HEAD is now at 15cfd96 and again\n",
            "\n",
            "ERROR: torchtext 0.9.1 has requirement torch==1.8.1, but you'll have torch 1.7.1 which is incompatible.\n",
            "ERROR: bokeh 2.3.1 has requirement pillow>=7.1.0, but you'll have pillow 7.0.0 which is incompatible.\n",
            "ERROR: albumentations 0.1.12 has requirement imgaug<0.2.7,>=0.2.5, but you'll have imgaug 0.2.9 which is incompatible.\n",
            "\n",
            "\n",
            "WARNING: apt does not have a stable CLI interface. Use with caution in scripts.\n",
            "\n",
            "\n"
          ],
          "name": "stdout"
        }
      ]
    },
    {
      "cell_type": "markdown",
      "metadata": {
        "id": "TsD5F-yuuNsu"
      },
      "source": [
        "## Problem Description\n",
        "\n",
        "We want to write a nonlinear optimization for the ball balancing bot. In order to complete our trajectory optimization, we will use `MathematicalProgram`.\n",
        "\n",
        "**maybe write more later if we submit the notebook"
      ]
    },
    {
      "cell_type": "markdown",
      "metadata": {
        "id": "pchh5xxLucTb"
      },
      "source": [
        "## Parse the `urdf` and Get the `MultibodyPlant`\n",
        "\n",
        "We start by defining a couple of physical parameters that we will need below."
      ]
    },
    {
      "cell_type": "code",
      "metadata": {
        "id": "SojuC2b8TKDz"
      },
      "source": [
        "# friction coefficient between feet and ground\n",
        "friction = .2\n",
        "\n",
        "# position of the feet in the respective leg frame\n",
        "# (must match the urdf)\n",
        "foot_in_leg = {\n",
        "    'stance_leg': np.zeros(3),        # stance foot in stance-leg frame\n",
        "    'swing_leg': np.array([0, 0, -1]) # swing foot in swing-leg frame\n",
        "}"
      ],
      "execution_count": 4,
      "outputs": []
    },
    {
      "cell_type": "code",
      "metadata": {
        "id": "JT2OPDHHuxuN"
      },
      "source": [
        "ballbot_urdf = \"\"\"\n",
        "<?xml version=\"1.0\"?>\n",
        "\n",
        "<robot xmlns=\"http://drake.mit.edu\"\n",
        " xmlns:xsi=\"http://www.w3.org/2001/XMLSchema-instance\"\n",
        " name=\"BallBot\">\n",
        "\n",
        "  <link name=\"ground\">\n",
        "    <visual>\n",
        "      <origin xyz=\"0 0 -5\" rpy=\"0 0 0\" />\n",
        "      <geometry>\n",
        "        <box size=\"1000 1000 10\" />\n",
        "      </geometry>\n",
        "      <material>\n",
        "        <color rgba=\"0.93 .74 .4 1\" />\n",
        "      </material>\n",
        "    </visual>\n",
        "  </link>\n",
        "\n",
        "  <joint name=\"ground_weld\" type=\"fixed\">\n",
        "    <parent link=\"world\" />\n",
        "    <child link=\"ground\" />\n",
        "  </joint>\n",
        "\n",
        "  <link name=\"ball\">\n",
        "    <inertial>\n",
        "      <origin xyz=\"0 0 0\" rpy=\"0 0 0\" />\n",
        "      <mass value=\"5\" />\n",
        "      <inertia ixx=\".02\" ixy=\"0\" ixz=\"0\" iyy=\"0.02\" iyz=\"0\" izz=\"0.02\" />\n",
        "    </inertial>\n",
        "    <visual>\n",
        "      <origin xyz=\"0 0 0\" rpy=\"0 0 0\" />\n",
        "      <geometry>\n",
        "        <sphere radius=\".1\" />\n",
        "        <box size=\"0.1 0.1 0.1\"/>\n",
        "      </geometry>\n",
        "      <material>\n",
        "        <color rgba=\"0.25 0.52 0.96 1\" />\n",
        "      </material>\n",
        "    </visual>\n",
        "  </link>\n",
        "\n",
        "  <link name=\"bot\">\n",
        "    <inertial>\n",
        "      <origin xyz=\"0 0 .05\" rpy=\"0 0 0\" />\n",
        "      <mass value=\"4\" />\n",
        "      <inertia ixx=\"0.018\" ixy=\"0\" ixz=\"0\" iyy=\"0.018\" iyz=\"0\" izz=\"0.0288\" />\n",
        "    </inertial>\n",
        "    <visual>\n",
        "      <origin xyz=\"0 0 .05\" rpy=\"0 0 0\" />\n",
        "      <geometry>\n",
        "         <cylinder length=\".1\" radius=\".12\" />\n",
        "      </geometry>\n",
        "      <material>\n",
        "        <color rgba=\".61 .63 .67 1\" />\n",
        "      </material>\n",
        "    </visual>\n",
        "  </link>\n",
        "  \n",
        "  <joint name=\"x\" type=\"prismatic\">\n",
        "    <parent link=\"world\" />\n",
        "    <child link=\"ball\" />\n",
        "    <origin xyz=\"0 0 .1\" />\n",
        "    <axis xyz=\"1 0 0\" />\n",
        "    <dynamics damping=\"0.1\" />\n",
        "  </joint>\n",
        "\n",
        "  <joint name=\"theta\" type=\"continuous\">\n",
        "    <parent link=\"ball\" />\n",
        "    <child link=\"bot\" />\n",
        "    <origin xyz=\"0 0 0\" />\n",
        "    <axis xyz=\"0 1 0\" />\n",
        "    <dynamics damping=\"0.1\" />\n",
        "  </joint>\n",
        "\n",
        "  <transmission type=\"SimpleTransmission\" name=\"ball_torque\">\n",
        "    <actuator name=\"torque\" />\n",
        "    <joint name=\"theta\" />\n",
        "    <mechanicalReduction>1</mechanicalReduction>\n",
        "  </transmission>\n",
        "\n",
        "  <transmission type=\"SimpleTransmission\" name=\"ball_force\">\n",
        "    <actuator name=\"force\" />\n",
        "    <joint name=\"x\" />\n",
        "    <mechanicalReduction>.1</mechanicalReduction>\n",
        "  </transmission>\n",
        "</robot>\n",
        "\"\"\""
      ],
      "execution_count": 5,
      "outputs": []
    },
    {
      "cell_type": "code",
      "metadata": {
        "id": "47iJ8VWAux5c"
      },
      "source": [
        "# parse urdf and create the MultibodyPlant\n",
        "ballbot = MultibodyPlant(time_step=0)\n",
        "Parser(ballbot).AddModelFromString(ballbot_urdf, \"urdf\")\n",
        "ballbot.Finalize()\n",
        "\n",
        "# overwrite MultibodyPlant with its autodiff copy\n",
        "ballbot = ballbot.ToAutoDiffXd() \n",
        "\n",
        "# number of configuration variables\n",
        "nq = ballbot.num_positions()  # Returns the size of the multibody system state vector x = [q v]. This will be num_positions() plus num_velocities()\n",
        "\n",
        "# number of components of the contact forces\n",
        "nf = 2"
      ],
      "execution_count": 6,
      "outputs": []
    },
    {
      "cell_type": "code",
      "metadata": {
        "id": "SqV18W2zvl1U",
        "outputId": "6fb4c434-4e4d-4941-bda9-0cc48c0ccfcd",
        "colab": {
          "base_uri": "https://localhost:8080/"
        }
      },
      "source": [
        "print(nq)"
      ],
      "execution_count": 7,
      "outputs": [
        {
          "output_type": "stream",
          "text": [
            "2\n"
          ],
          "name": "stdout"
        }
      ]
    },
    {
      "cell_type": "code",
      "metadata": {
        "id": "Q21Ny-mJjk2p"
      },
      "source": [
        "ballbot_floating_base_urdf = \"\"\"\n",
        "<?xml version=\"1.0\"?>\n",
        "\n",
        "<robot xmlns=\"http://drake.mit.edu\"\n",
        " xmlns:xsi=\"http://www.w3.org/2001/XMLSchema-instance\"\n",
        " name=\"BallBot\">\n",
        "\n",
        "  <link name=\"ground\">\n",
        "    <visual>\n",
        "      <origin xyz=\"0 0 -5\" rpy=\"0 0 0\" />\n",
        "      <geometry>\n",
        "        <box size=\"1000 1000 10\" />\n",
        "      </geometry>\n",
        "      <material>\n",
        "        <color rgba=\"0.93 .74 .4 1\" />\n",
        "      </material>\n",
        "    </visual>\n",
        "    <collision>\n",
        "      <origin xyz=\"0 0 -5\" rpy=\"0 0 0\" />\n",
        "      <geometry>\n",
        "        <box size=\"1000 1000 10\" />\n",
        "      </geometry>\n",
        "    </collision>\n",
        "  </link>\n",
        "\n",
        "  <joint name=\"ground_weld\" type=\"fixed\">\n",
        "    <parent link=\"world\" />\n",
        "    <child link=\"ground\" />\n",
        "  </joint>\n",
        "\n",
        "  <link name=\"ball\">\n",
        "    <inertial>\n",
        "      <origin xyz=\"0 0 0\" rpy=\"0 0 0\" />\n",
        "      <mass value=\"5\" />\n",
        "      <inertia ixx=\".02\" ixy=\"0\" ixz=\"0\" iyy=\"0.02\" iyz=\"0\" izz=\"0.02\" />\n",
        "    </inertial>\n",
        "    <visual>\n",
        "      <origin xyz=\"0 0 0\" rpy=\"0 0 0\" />\n",
        "      <geometry>\n",
        "        <sphere radius=\".1\" />\n",
        "      </geometry>\n",
        "      <material>\n",
        "        <color rgba=\"0.25 0.52 0.96 1\" />\n",
        "      </material>\n",
        "    </visual>\n",
        "    <collision>\n",
        "      <origin xyz=\"0 0 0\" rpy=\"0 0 0\" />\n",
        "      <geometry>\n",
        "        <sphere radius=\".1\" />\n",
        "      </geometry>\n",
        "    </collision>\n",
        "  </link>\n",
        "\n",
        "  <link name=\"bot\">\n",
        "    <inertial>\n",
        "      <origin xyz=\"0 0 .05\" rpy=\"0 0 0\" />\n",
        "      <mass value=\"4\" />\n",
        "      <inertia ixx=\"0.018\" ixy=\"0\" ixz=\"0\" iyy=\"0.018\" iyz=\"0\" izz=\"0.0288\" />\n",
        "    </inertial>\n",
        "    <collision>\n",
        "      <origin xyz=\"0 0 .05\" rpy=\"0 0 0\" />\n",
        "      <geometry>\n",
        "         <cylinder length=\".1\" radius=\".12\" />\n",
        "      </geometry>\n",
        "    </collision>\n",
        "    <visual>\n",
        "      <origin xyz=\"0 0 .05\" rpy=\"0 0 0\" />\n",
        "      <geometry>\n",
        "         <cylinder length=\".1\" radius=\".12\" />\n",
        "      </geometry>\n",
        "      <material>\n",
        "        <color rgba=\".61 .63 .67 1\" />\n",
        "      </material>\n",
        "    </visual>\n",
        "  </link>\n",
        "  \n",
        "  <drake:joint name=\"floating_base\" type=\"planar\">\n",
        "    <parent link=\"world\" />\n",
        "    <child link=\"ball\" />\n",
        "    <origin rpy=\"1.57 0 0\" xyz=\"0 0 .1\" />\n",
        "  </drake:joint>\n",
        "\n",
        "  <joint name=\"theta2\" type=\"continuous\">\n",
        "    <parent link=\"ball\" />\n",
        "    <child link=\"bot\" />\n",
        "    <origin rpy=\"-1.57 0 0\" xyz=\"0 0 0\" />\n",
        "    <axis xyz=\"0 1 0\" />\n",
        "    <dynamics damping=\"0.1\" />\n",
        "  </joint>\n",
        "\n",
        "  <transmission type=\"SimpleTransmission\" name=\"ball_torque\">\n",
        "    <actuator name=\"torque\" />\n",
        "    <joint name=\"theta2\" />\n",
        "    <mechanicalReduction>1</mechanicalReduction>\n",
        "  </transmission>\n",
        "\n",
        "</robot>\n",
        "\"\"\""
      ],
      "execution_count": 8,
      "outputs": []
    },
    {
      "cell_type": "code",
      "metadata": {
        "id": "DWJjp-HSjoFz"
      },
      "source": [
        "# parse urdf and create the MultibodyPlant\n",
        "ballbot_floating_base = MultibodyPlant(time_step=0)\n",
        "Parser(ballbot_floating_base).AddModelFromString(ballbot_floating_base_urdf, \"urdf\")\n",
        "ballbot_floating_base.Finalize()\n",
        "\n",
        "# overwrite MultibodyPlant with its autodiff copy\n",
        "ballbot_floating_base = ballbot_floating_base.ToAutoDiffXd() \n",
        "\n",
        "# number of configuration variables\n",
        "nq = ballbot_floating_base.num_positions()  \n",
        "nm = ballbot_floating_base.num_multibody_states() # Returns the size of the multibody system state vector x = [q v]. This will be num_positions() plus num_velocities()\n",
        "\n",
        "# number of components of the contact forces\n",
        "nf = 2  # to do"
      ],
      "execution_count": 9,
      "outputs": []
    },
    {
      "cell_type": "code",
      "metadata": {
        "id": "KwZVjkPHkdVP",
        "outputId": "5c3e9754-c43f-4c15-f6e9-8efff7727efa",
        "colab": {
          "base_uri": "https://localhost:8080/"
        }
      },
      "source": [
        "print(nq)"
      ],
      "execution_count": 10,
      "outputs": [
        {
          "output_type": "stream",
          "text": [
            "4\n"
          ],
          "name": "stdout"
        }
      ]
    },
    {
      "cell_type": "code",
      "metadata": {
        "id": "7qKUGOPG_FxI"
      },
      "source": [
        "# Function that given the current configuration, velocity,\n",
        "# acceleration, and contact force at the stance foot, evaluates\n",
        "# the manipulator equations. The output of this function is a\n",
        "# vector with dimensions equal to the number of configuration\n",
        "# variables. If the output of this function is equal to zero\n",
        "# then the given arguments verify the manipulator equations.\n",
        "def manipulator_equations(vars):\n",
        "    \n",
        "    # split input vector in subvariables\n",
        "    # configuration, velocity, acceleration, stance-foot force\n",
        "    assert vars.size == 3 * nq + nf\n",
        "    split_at = [nq, 2 * nq, 3 * nq]\n",
        "    q, qd, qdd, f = np.split(vars, split_at)\n",
        "    \n",
        "    # set compass gait state\n",
        "    context = compass_gait.CreateDefaultContext()\n",
        "    compass_gait.SetPositions(context, q)\n",
        "    compass_gait.SetVelocities(context, qd)\n",
        "    \n",
        "    # matrices for the manipulator equations\n",
        "    M = compass_gait.CalcMassMatrixViaInverseDynamics(context)\n",
        "    Cv = compass_gait.CalcBiasTerm(context)\n",
        "    tauG = compass_gait.CalcGravityGeneralizedForces(context)\n",
        "    \n",
        "    # Jacobian of the stance foot\n",
        "    J = get_foot_jacobian(compass_gait, context, 'stance_leg')\n",
        "    \n",
        "    # return violation of the manipulator equations\n",
        "    return M.dot(qdd) + Cv - tauG - J.T.dot(f)"
      ],
      "execution_count": null,
      "outputs": []
    },
    {
      "cell_type": "code",
      "metadata": {
        "id": "MGM_t0FgTcdv",
        "colab": {
          "base_uri": "https://localhost:8080/",
          "height": 829
        },
        "outputId": "2f587ad2-8d71-434b-c14f-db72e0f8c5d6"
      },
      "source": [
        "def ballbot_example():\n",
        "    def UprightState():\n",
        "        state = (0, 0, 0, 0)\n",
        "        return state\n",
        "\n",
        "\n",
        "    def BalancingLQR(plant):\n",
        "        # Design an LQR controller for stabilizing the CartPole around the upright.\n",
        "        # Returns a (static) AffineSystem that implements the controller (in\n",
        "        # the original CartPole coordinates).\n",
        "\n",
        "        context = plant.CreateDefaultContext()\n",
        "        plant.get_input_port().FixValue(context, [0])\n",
        "\n",
        "        context.get_mutable_continuous_state_vector().SetFromVector(UprightState())\n",
        "\n",
        "        Q = np.diag((10., 10., 1., 1.))\n",
        "        R = [1]\n",
        "\n",
        "        # MultibodyPlant has many (optional) input ports, so we must pass the\n",
        "        # input_port_index to LQR.\n",
        "        return LinearQuadraticRegulator(\n",
        "            plant,\n",
        "            context,\n",
        "            Q,\n",
        "            R)\n",
        "\n",
        "\n",
        "    def MakeBallBot():\n",
        "        builder = DiagramBuilder()\n",
        "        plant, scene_graph = AddMultibodyPlantSceneGraph(builder, time_step=0.0)\n",
        "        Parser(plant).AddModelFromString(ballbot_urdf, \"urdf\")\n",
        "        plant.Finalize()\n",
        "        # Applying a torque between the ball and the bot torques the bot, but also causes a \n",
        "        # force at the ground (the radius of the ball is entered as a gear reduction in the transmission).\n",
        "        B = np.array([[1],[1]])\n",
        "        gain = builder.AddSystem(pydrake.systems.primitives.MatrixGain(B))\n",
        "        gain.set_name(\"Actuator Mapping\")\n",
        "        builder.Connect(gain.get_output_port(), plant.get_actuation_input_port())\n",
        "        builder.ExportInput(gain.get_input_port(), \"torque\")\n",
        "        builder.ExportOutput(plant.get_state_output_port(), \"continuous_state\")\n",
        "        builder.ExportOutput(scene_graph.get_query_output_port(), \"query\")\n",
        "        return builder.Build()\n",
        "\n",
        "    builder = DiagramBuilder()\n",
        "    ballbot = builder.AddSystem(MakeBallBot())\n",
        "\n",
        "    controller = builder.AddSystem(BalancingLQR(ballbot))\n",
        "    controller.set_name(\"LQR Controller\")\n",
        "    builder.Connect(ballbot.GetOutputPort(\"continuous_state\"), controller.get_input_port())\n",
        "    builder.Connect(controller.get_output_port(),\n",
        "                    ballbot.get_input_port())\n",
        "\n",
        "    # Setup visualization\n",
        "    visualizer = pydrake.systems.meshcat_visualizer.ConnectMeshcatVisualizer(\n",
        "        builder, \n",
        "        output_port=ballbot.GetOutputPort(\"query\"),\n",
        "        zmq_url=zmq_url)\n",
        "    visualizer.vis.delete()\n",
        "    visualizer.vis['/Background'].set_property('visible', False)\n",
        "    #visualizer.set_planar_viewpoint(xmin=-2.5, xmax=2.5, ymin=-1.0, ymax=2.5)\n",
        "\n",
        "    diagram = builder.Build()\n",
        "    \n",
        "    # For reference, let's draw the diagram we've assembled:\n",
        "    display(SVG(pydot.graph_from_dot_data(diagram.GetGraphvizString())[0].create_svg()))\n",
        "\n",
        "    # Set up a simulator to run this diagram\n",
        "    simulator = Simulator(diagram)\n",
        "    simulator.set_target_realtime_rate(1.0)\n",
        "    context = simulator.get_mutable_context()\n",
        "    context.SetContinuousState(UprightState() + 0.0 * np.random.randn(4,) + np.array([1, 0, 0 ,0]))\n",
        "\n",
        "    # Simulate\n",
        "    duration = 10.0 if running_as_notebook else 0.1 # sets a shorter duration during testing\n",
        "    simulator.AdvanceTo(duration)\n",
        "\n",
        "ballbot_example()"
      ],
      "execution_count": null,
      "outputs": [
        {
          "output_type": "stream",
          "text": [
            "Connecting to meshcat-server at zmq_url=tcp://127.0.0.1:6001...\n",
            "You can open the visualizer by visiting the following URL:\n",
            "http://82808fce57ec.ngrok.io/static/\n",
            "Connected to meshcat-server.\n"
          ],
          "name": "stdout"
        },
        {
          "output_type": "display_data",
          "data": {
            "text/plain": [
              "<IPython.core.display.SVG object>"
            ],
            "image/svg+xml": "<svg height=\"550pt\" viewBox=\"0.00 0.00 1428.78 550.00\" width=\"1429pt\" xmlns=\"http://www.w3.org/2000/svg\" xmlns:xlink=\"http://www.w3.org/1999/xlink\">\n<g class=\"graph\" id=\"graph0\" transform=\"scale(1 1) rotate(0) translate(4 546)\">\n<title>_94659033714432</title>\n<polygon fill=\"#ffffff\" points=\"-4,4 -4,-546 1424.7809,-546 1424.7809,4 -4,4\" stroke=\"transparent\"/>\n<g class=\"cluster\" id=\"clust1\">\n<title>cluster94659033714432diagram</title>\n<polygon fill=\"none\" points=\"8,-8 8,-534 1412.7809,-534 1412.7809,-8 8,-8\" stroke=\"#000000\"/>\n<text fill=\"#000000\" font-family=\"Times,serif\" font-size=\"14.00\" text-anchor=\"middle\" x=\"710.3904\" y=\"-518.8\">94659033714432</text>\n</g>\n<g class=\"cluster\" id=\"clust4\">\n<title>cluster94659033714432subsystems</title>\n<polygon fill=\"none\" points=\"16,-16 16,-503 1404.7809,-503 1404.7809,-16 16,-16\" stroke=\"#ffffff\"/>\n</g>\n<g class=\"cluster\" id=\"clust5\">\n<title>cluster94659033711232diagram</title>\n<polygon fill=\"none\" points=\"24,-24 24,-495 1239.7809,-495 1239.7809,-24 24,-24\" stroke=\"#000000\"/>\n<text fill=\"#000000\" font-family=\"Times,serif\" font-size=\"14.00\" text-anchor=\"middle\" x=\"631.8904\" y=\"-479.8\">drake/systems/Diagram@0000561786144280</text>\n</g>\n<g class=\"cluster\" id=\"clust6\">\n<title>cluster94659033711232inputports</title>\n<polygon fill=\"#d3d3d3\" points=\"32,-336 32,-411 116.8939,-411 116.8939,-336 32,-336\" stroke=\"#d3d3d3\"/>\n<text fill=\"#000000\" font-family=\"Times,serif\" font-size=\"14.00\" text-anchor=\"middle\" x=\"74.4469\" y=\"-395.8\">input ports</text>\n</g>\n<g class=\"cluster\" id=\"clust7\">\n<title>cluster94659033711232outputports</title>\n<polygon fill=\"#d3d3d3\" points=\"1068.8939,-335 1068.8939,-464 1231.7809,-464 1231.7809,-335 1068.8939,-335\" stroke=\"#d3d3d3\"/>\n<text fill=\"#000000\" font-family=\"Times,serif\" font-size=\"14.00\" text-anchor=\"middle\" x=\"1150.3374\" y=\"-448.8\">output ports</text>\n</g>\n<g class=\"cluster\" id=\"clust8\">\n<title>cluster94659033711232subsystems</title>\n<polygon fill=\"none\" points=\"136.8939,-32 136.8939,-464 1048.8939,-464 1048.8939,-32 136.8939,-32\" stroke=\"#ffffff\"/>\n</g>\n<!-- _94659033711232_u0 -->\n<g class=\"node\" id=\"node1\">\n<title>_94659033711232_u0</title>\n<ellipse cx=\"74.4469\" cy=\"-362\" fill=\"none\" rx=\"34.394\" ry=\"18\" stroke=\"#0000ff\"/>\n<text fill=\"#000000\" font-family=\"Times,serif\" font-size=\"14.00\" text-anchor=\"middle\" x=\"74.4469\" y=\"-358.3\">torque</text>\n</g>\n<!-- 94659033198976 -->\n<g class=\"node\" id=\"node6\">\n<title>94659033198976</title>\n<polygon fill=\"none\" points=\"144.8939,-246 144.8939,-292 266.8939,-292 266.8939,-246 144.8939,-246\" stroke=\"#000000\"/>\n<text fill=\"#000000\" font-family=\"Times,serif\" font-size=\"14.00\" text-anchor=\"middle\" x=\"205.8939\" y=\"-276.8\">Actuator Mapping</text>\n<polyline fill=\"none\" points=\"144.8939,-269 266.8939,-269 \" stroke=\"#000000\"/>\n<text fill=\"#000000\" font-family=\"Times,serif\" font-size=\"14.00\" text-anchor=\"middle\" x=\"175.3939\" y=\"-253.8\">u0</text>\n<polyline fill=\"none\" points=\"205.8939,-246 205.8939,-269 \" stroke=\"#000000\"/>\n<text fill=\"#000000\" font-family=\"Times,serif\" font-size=\"14.00\" text-anchor=\"middle\" x=\"236.3939\" y=\"-253.8\">y0</text>\n</g>\n<!-- _94659033711232_u0&#45;&gt;94659033198976 -->\n<g class=\"edge\" id=\"edge4\">\n<title>_94659033711232_u0-&gt;94659033198976:u0</title>\n<path d=\"M77.9824,-343.7104C84.3759,-316.2125 100.5054,-266.5368 134.7483,-258.2018\" fill=\"none\" stroke=\"#0000ff\"/>\n<polygon fill=\"#0000ff\" points=\"135.3751,-261.6522 144.8939,-257 134.5516,-254.7008 135.3751,-261.6522\" stroke=\"#0000ff\"/>\n</g>\n<!-- _94659033711232_y0 -->\n<g class=\"node\" id=\"node2\">\n<title>_94659033711232_y0</title>\n<ellipse cx=\"1150.3374\" cy=\"-415\" fill=\"none\" rx=\"73.387\" ry=\"18\" stroke=\"#00ff00\"/>\n<text fill=\"#000000\" font-family=\"Times,serif\" font-size=\"14.00\" text-anchor=\"middle\" x=\"1150.3374\" y=\"-411.3\">continuous_state</text>\n</g>\n<!-- 94659033199872 -->\n<g class=\"node\" id=\"node7\">\n<title>94659033199872</title>\n<polygon fill=\"none\" points=\"1274.2809,-443 1274.2809,-489 1382.2809,-489 1382.2809,-443 1274.2809,-443\" stroke=\"#000000\"/>\n<text fill=\"#000000\" font-family=\"Times,serif\" font-size=\"14.00\" text-anchor=\"middle\" x=\"1328.2809\" y=\"-473.8\">LQR Controller</text>\n<polyline fill=\"none\" points=\"1274.2809,-466 1382.2809,-466 \" stroke=\"#000000\"/>\n<text fill=\"#000000\" font-family=\"Times,serif\" font-size=\"14.00\" text-anchor=\"middle\" x=\"1301.2809\" y=\"-450.8\">u0</text>\n<polyline fill=\"none\" points=\"1328.2809,-443 1328.2809,-466 \" stroke=\"#000000\"/>\n<text fill=\"#000000\" font-family=\"Times,serif\" font-size=\"14.00\" text-anchor=\"middle\" x=\"1355.2809\" y=\"-450.8\">y0</text>\n</g>\n<!-- _94659033711232_y0&#45;&gt;94659033199872 -->\n<g class=\"edge\" id=\"edge7\">\n<title>_94659033711232_y0-&gt;94659033199872:u0</title>\n<path d=\"M1206.2447,-426.7708C1217.4833,-429.6885 1229.1135,-433.1121 1239.7809,-437 1251.9516,-441.4358 1255.6721,-448.9114 1264.1995,-452.2721\" fill=\"none\" stroke=\"#000000\"/>\n<polygon fill=\"#000000\" points=\"1263.8333,-455.7603 1274.2809,-454 1265.0158,-448.8609 1263.8333,-455.7603\" stroke=\"#000000\"/>\n</g>\n<!-- _94659033711232_y1 -->\n<g class=\"node\" id=\"node3\">\n<title>_94659033711232_y1</title>\n<ellipse cx=\"1150.3374\" cy=\"-361\" fill=\"none\" rx=\"32.4942\" ry=\"18\" stroke=\"#00ff00\"/>\n<text fill=\"#000000\" font-family=\"Times,serif\" font-size=\"14.00\" text-anchor=\"middle\" x=\"1150.3374\" y=\"-357.3\">query</text>\n</g>\n<!-- 94659033751552 -->\n<g class=\"node\" id=\"node8\">\n<title>94659033751552</title>\n<polygon fill=\"none\" points=\"1259.7809,-349.5 1259.7809,-418.5 1396.7809,-418.5 1396.7809,-349.5 1259.7809,-349.5\" stroke=\"#000000\"/>\n<text fill=\"#000000\" font-family=\"Times,serif\" font-size=\"14.00\" text-anchor=\"middle\" x=\"1328.2809\" y=\"-403.3\">meshcat_visualizer</text>\n<polyline fill=\"none\" points=\"1259.7809,-395.5 1396.7809,-395.5 \" stroke=\"#000000\"/>\n<text fill=\"#000000\" font-family=\"Times,serif\" font-size=\"14.00\" text-anchor=\"middle\" x=\"1318.2809\" y=\"-380.3\">lcm_visualization</text>\n<polyline fill=\"none\" points=\"1259.7809,-372.5 1376.7809,-372.5 \" stroke=\"#000000\"/>\n<text fill=\"#000000\" font-family=\"Times,serif\" font-size=\"14.00\" text-anchor=\"middle\" x=\"1318.2809\" y=\"-357.3\">geometry_query</text>\n<polyline fill=\"none\" points=\"1376.7809,-349.5 1376.7809,-395.5 \" stroke=\"#000000\"/>\n<text fill=\"#000000\" font-family=\"Times,serif\" font-size=\"14.00\" text-anchor=\"middle\" x=\"1386.7809\" y=\"-368.8\"> </text>\n</g>\n<!-- _94659033711232_y1&#45;&gt;94659033751552 -->\n<g class=\"edge\" id=\"edge9\">\n<title>_94659033711232_y1-&gt;94659033751552:u1</title>\n<path d=\"M1182.9019,-361C1201.8615,-361 1226.5179,-361 1249.6401,-361\" fill=\"none\" stroke=\"#000000\"/>\n<polygon fill=\"#000000\" points=\"1249.7809,-364.5001 1259.7809,-361 1249.7808,-357.5001 1249.7809,-364.5001\" stroke=\"#000000\"/>\n</g>\n<!-- 94659033272320 -->\n<g class=\"node\" id=\"node4\">\n<title>94659033272320</title>\n<polygon fill=\"none\" points=\"302.8939,-41 302.8939,-455 808.8939,-455 808.8939,-41 302.8939,-41\" stroke=\"#000000\"/>\n<text fill=\"#000000\" font-family=\"Times,serif\" font-size=\"14.00\" text-anchor=\"middle\" x=\"555.8939\" y=\"-439.8\">plant</text>\n<polyline fill=\"none\" points=\"302.8939,-432 808.8939,-432 \" stroke=\"#000000\"/>\n<text fill=\"#000000\" font-family=\"Times,serif\" font-size=\"14.00\" text-anchor=\"middle\" x=\"403.8939\" y=\"-395.8\">geometry_query</text>\n<polyline fill=\"none\" points=\"302.8939,-367 504.8939,-367 \" stroke=\"#000000\"/>\n<text fill=\"#000000\" font-family=\"Times,serif\" font-size=\"14.00\" text-anchor=\"middle\" x=\"403.8939\" y=\"-330.8\">WorldModelInstance_actuation</text>\n<polyline fill=\"none\" points=\"302.8939,-302 504.8939,-302 \" stroke=\"#000000\"/>\n<text fill=\"#000000\" font-family=\"Times,serif\" font-size=\"14.00\" text-anchor=\"middle\" x=\"403.8939\" y=\"-265.8\">DefaultModelInstance_actuation</text>\n<polyline fill=\"none\" points=\"302.8939,-237 504.8939,-237 \" stroke=\"#000000\"/>\n<text fill=\"#000000\" font-family=\"Times,serif\" font-size=\"14.00\" text-anchor=\"middle\" x=\"403.8939\" y=\"-200.8\">BallBot_actuation</text>\n<polyline fill=\"none\" points=\"302.8939,-172 504.8939,-172 \" stroke=\"#000000\"/>\n<text fill=\"#000000\" font-family=\"Times,serif\" font-size=\"14.00\" text-anchor=\"middle\" x=\"403.8939\" y=\"-135.8\">applied_generalized_force</text>\n<polyline fill=\"none\" points=\"302.8939,-107 504.8939,-107 \" stroke=\"#000000\"/>\n<text fill=\"#000000\" font-family=\"Times,serif\" font-size=\"14.00\" text-anchor=\"middle\" x=\"403.8939\" y=\"-70.3\">applied_spatial_force</text>\n<polyline fill=\"none\" points=\"504.8939,-41 504.8939,-432 \" stroke=\"#000000\"/>\n<text fill=\"#000000\" font-family=\"Times,serif\" font-size=\"14.00\" text-anchor=\"middle\" x=\"656.8939\" y=\"-416.8\">geometry_pose</text>\n<polyline fill=\"none\" points=\"504.8939,-409 808.8939,-409 \" stroke=\"#000000\"/>\n<text fill=\"#000000\" font-family=\"Times,serif\" font-size=\"14.00\" text-anchor=\"middle\" x=\"656.8939\" y=\"-393.8\">continuous_state</text>\n<polyline fill=\"none\" points=\"504.8939,-386 808.8939,-386 \" stroke=\"#000000\"/>\n<text fill=\"#000000\" font-family=\"Times,serif\" font-size=\"14.00\" text-anchor=\"middle\" x=\"656.8939\" y=\"-370.8\">body_poses</text>\n<polyline fill=\"none\" points=\"504.8939,-363 808.8939,-363 \" stroke=\"#000000\"/>\n<text fill=\"#000000\" font-family=\"Times,serif\" font-size=\"14.00\" text-anchor=\"middle\" x=\"656.8939\" y=\"-347.8\">spatial_velocities</text>\n<polyline fill=\"none\" points=\"504.8939,-340 808.8939,-340 \" stroke=\"#000000\"/>\n<text fill=\"#000000\" font-family=\"Times,serif\" font-size=\"14.00\" text-anchor=\"middle\" x=\"656.8939\" y=\"-324.8\">spatial_accelerations</text>\n<polyline fill=\"none\" points=\"504.8939,-317 808.8939,-317 \" stroke=\"#000000\"/>\n<text fill=\"#000000\" font-family=\"Times,serif\" font-size=\"14.00\" text-anchor=\"middle\" x=\"656.8939\" y=\"-301.8\">generalized_acceleration</text>\n<polyline fill=\"none\" points=\"504.8939,-294 808.8939,-294 \" stroke=\"#000000\"/>\n<text fill=\"#000000\" font-family=\"Times,serif\" font-size=\"14.00\" text-anchor=\"middle\" x=\"656.8939\" y=\"-278.8\">WorldModelInstance_continuous_state</text>\n<polyline fill=\"none\" points=\"504.8939,-271 808.8939,-271 \" stroke=\"#000000\"/>\n<text fill=\"#000000\" font-family=\"Times,serif\" font-size=\"14.00\" text-anchor=\"middle\" x=\"656.8939\" y=\"-255.8\">WorldModelInstance_generalized_acceleration</text>\n<polyline fill=\"none\" points=\"504.8939,-248 808.8939,-248 \" stroke=\"#000000\"/>\n<text fill=\"#000000\" font-family=\"Times,serif\" font-size=\"14.00\" text-anchor=\"middle\" x=\"656.8939\" y=\"-232.8\">DefaultModelInstance_continuous_state</text>\n<polyline fill=\"none\" points=\"504.8939,-225 808.8939,-225 \" stroke=\"#000000\"/>\n<text fill=\"#000000\" font-family=\"Times,serif\" font-size=\"14.00\" text-anchor=\"middle\" x=\"656.8939\" y=\"-209.8\">DefaultModelInstance_generalized_acceleration</text>\n<polyline fill=\"none\" points=\"504.8939,-202 808.8939,-202 \" stroke=\"#000000\"/>\n<text fill=\"#000000\" font-family=\"Times,serif\" font-size=\"14.00\" text-anchor=\"middle\" x=\"656.8939\" y=\"-186.8\">BallBot_continuous_state</text>\n<polyline fill=\"none\" points=\"504.8939,-179 808.8939,-179 \" stroke=\"#000000\"/>\n<text fill=\"#000000\" font-family=\"Times,serif\" font-size=\"14.00\" text-anchor=\"middle\" x=\"656.8939\" y=\"-163.8\">BallBot_generalized_acceleration</text>\n<polyline fill=\"none\" points=\"504.8939,-156 808.8939,-156 \" stroke=\"#000000\"/>\n<text fill=\"#000000\" font-family=\"Times,serif\" font-size=\"14.00\" text-anchor=\"middle\" x=\"656.8939\" y=\"-140.8\">WorldModelInstance_generalized_contact_forces</text>\n<polyline fill=\"none\" points=\"504.8939,-133 808.8939,-133 \" stroke=\"#000000\"/>\n<text fill=\"#000000\" font-family=\"Times,serif\" font-size=\"14.00\" text-anchor=\"middle\" x=\"656.8939\" y=\"-117.8\">DefaultModelInstance_generalized_contact_forces</text>\n<polyline fill=\"none\" points=\"504.8939,-110 808.8939,-110 \" stroke=\"#000000\"/>\n<text fill=\"#000000\" font-family=\"Times,serif\" font-size=\"14.00\" text-anchor=\"middle\" x=\"656.8939\" y=\"-94.8\">BallBot_generalized_contact_forces</text>\n<polyline fill=\"none\" points=\"504.8939,-87 808.8939,-87 \" stroke=\"#000000\"/>\n<text fill=\"#000000\" font-family=\"Times,serif\" font-size=\"14.00\" text-anchor=\"middle\" x=\"656.8939\" y=\"-71.8\">reaction_forces</text>\n<polyline fill=\"none\" points=\"504.8939,-64 808.8939,-64 \" stroke=\"#000000\"/>\n<text fill=\"#000000\" font-family=\"Times,serif\" font-size=\"14.00\" text-anchor=\"middle\" x=\"656.8939\" y=\"-48.8\">contact_results</text>\n</g>\n<!-- 94659033272320&#45;&gt;_94659033711232_y0 -->\n<g class=\"edge\" id=\"edge5\">\n<title>94659033272320:y1-&gt;_94659033711232_y0</title>\n<path d=\"M808.8939,-398C829.7212,-398 825.3105,-420.9098 844.8939,-428 887.5195,-443.4326 1003.6526,-430.887 1048.8939,-428 1058.068,-427.4146 1067.6805,-426.5342 1077.1788,-425.5022\" fill=\"none\" stroke=\"#00ff00\"/>\n<polygon fill=\"#00ff00\" points=\"1077.878,-428.9451 1087.4146,-424.3295 1077.0812,-421.9905 1077.878,-428.9451\" stroke=\"#00ff00\"/>\n</g>\n<!-- 94659033187968 -->\n<g class=\"node\" id=\"node5\">\n<title>94659033187968</title>\n<polygon fill=\"none\" points=\"844.8939,-349.5 844.8939,-418.5 1040.8939,-418.5 1040.8939,-349.5 844.8939,-349.5\" stroke=\"#000000\"/>\n<text fill=\"#000000\" font-family=\"Times,serif\" font-size=\"14.00\" text-anchor=\"middle\" x=\"942.8939\" y=\"-403.3\">scene_graph</text>\n<polyline fill=\"none\" points=\"844.8939,-395.5 1040.8939,-395.5 \" stroke=\"#000000\"/>\n<text fill=\"#000000\" font-family=\"Times,serif\" font-size=\"14.00\" text-anchor=\"middle\" x=\"884.3939\" y=\"-368.8\">plant_pose</text>\n<polyline fill=\"none\" points=\"923.8939,-349.5 923.8939,-395.5 \" stroke=\"#000000\"/>\n<text fill=\"#000000\" font-family=\"Times,serif\" font-size=\"14.00\" text-anchor=\"middle\" x=\"982.3939\" y=\"-380.3\">lcm_visualization</text>\n<polyline fill=\"none\" points=\"923.8939,-372.5 1040.8939,-372.5 \" stroke=\"#000000\"/>\n<text fill=\"#000000\" font-family=\"Times,serif\" font-size=\"14.00\" text-anchor=\"middle\" x=\"982.3939\" y=\"-357.3\">query</text>\n</g>\n<!-- 94659033272320&#45;&gt;94659033187968 -->\n<g class=\"edge\" id=\"edge1\">\n<title>94659033272320:y0-&gt;94659033187968:u0</title>\n<path d=\"M808.8939,-421C831.695,-421 822.4097,-386.1162 835.1838,-375.215\" fill=\"none\" stroke=\"#000000\"/>\n<polygon fill=\"#000000\" points=\"836.5009,-378.4659 844.8939,-372 834.3006,-371.8207 836.5009,-378.4659\" stroke=\"#000000\"/>\n</g>\n<!-- 94659033187968&#45;&gt;_94659033711232_y1 -->\n<g class=\"edge\" id=\"edge6\">\n<title>94659033187968:y1-&gt;_94659033711232_y1</title>\n<path d=\"M1040.8939,-361C1062.899,-361 1087.3928,-361 1107.62,-361\" fill=\"none\" stroke=\"#00ff00\"/>\n<polygon fill=\"#00ff00\" points=\"1107.7729,-364.5001 1117.7729,-361 1107.7728,-357.5001 1107.7729,-364.5001\" stroke=\"#00ff00\"/>\n</g>\n<!-- 94659033187968&#45;&gt;94659033272320 -->\n<g class=\"edge\" id=\"edge2\">\n<title>94659033187968:y1-&gt;94659033272320:u0</title>\n<path d=\"M982.8939,-349C982.8939,-287.6667 894.7256,-313.2428 844.8939,-349 804.2991,-378.1291 849.4887,-426.3709 808.8939,-455.5 808.8939,-455.5 384.3171,-408.9308 313.0014,-401.1086\" fill=\"none\" stroke=\"#000000\"/>\n<polygon fill=\"#000000\" points=\"313.2159,-397.6113 302.8939,-400 312.4526,-404.5695 313.2159,-397.6113\" stroke=\"#000000\"/>\n</g>\n<!-- 94659033198976&#45;&gt;94659033272320 -->\n<g class=\"edge\" id=\"edge3\">\n<title>94659033198976:y0-&gt;94659033272320:u3</title>\n<path d=\"M266.8939,-257C291.1427,-257 279.5491,-218.5666 293.1572,-207.1567\" fill=\"none\" stroke=\"#000000\"/>\n<polygon fill=\"#000000\" points=\"294.4607,-210.4135 302.8939,-204 292.3019,-203.7547 294.4607,-210.4135\" stroke=\"#000000\"/>\n</g>\n<!-- 94659033199872&#45;&gt;_94659033711232_u0 -->\n<g class=\"edge\" id=\"edge8\">\n<title>94659033199872:y0-&gt;_94659033711232_u0</title>\n<path d=\"M1355.2809,-443C1355.2809,-425 1291.4033,-437.4484 1274.2809,-443 1256.2681,-448.8403 1257.7235,-461.9478 1239.7809,-468 1114.7174,-510.1847 1074.8803,-475 942.8939,-475 555.8939,-475 555.8939,-475 555.8939,-475 369.6457,-475 297.8195,-561.7622 136.8939,-468 108.0221,-451.1781 91.1168,-415.3295 82.3346,-389.9916\" fill=\"none\" stroke=\"#000000\"/>\n<polygon fill=\"#000000\" points=\"85.5716,-388.6269 79.1572,-380.1944 78.913,-390.7864 85.5716,-388.6269\" stroke=\"#000000\"/>\n</g>\n</g>\n</svg>"
          },
          "metadata": {
            "tags": []
          }
        }
      ]
    },
    {
      "cell_type": "code",
      "metadata": {
        "colab": {
          "base_uri": "https://localhost:8080/"
        },
        "id": "JVzWpY42TdQ7",
        "outputId": "3ddc11d7-b5d4-4c5d-c6f8-a846d31cbff8"
      },
      "source": [
        "def ballbot_floating_base_example():\n",
        "    builder = DiagramBuilder()\n",
        "    plant, scene_graph = AddMultibodyPlantSceneGraph(builder, time_step=0.001)\n",
        "    Parser(plant).AddModelFromString(ballbot_floating_base_urdf, \"urdf\")\n",
        "    plant.Finalize()\n",
        "\n",
        "    # Just use zero instead of a controller to start\n",
        "    command = builder.AddSystem(pydrake.systems.primitives.ConstantVectorSource([0.0]))\n",
        "    builder.Connect(command.get_output_port(), plant.get_actuation_input_port())\n",
        "\n",
        "    # Setup visualization\n",
        "    visualizer = pydrake.systems.meshcat_visualizer.ConnectMeshcatVisualizer(\n",
        "        builder, \n",
        "        scene_graph=scene_graph, \n",
        "        zmq_url=zmq_url)\n",
        "    visualizer.vis['/Background'].set_property('visible',False)\n",
        "    visualizer.vis.delete()\n",
        "    #visualizer.set_planar_viewpoint(xmin=-2.5, xmax=2.5, ymin=-1.0, ymax=2.5)\n",
        "\n",
        "    diagram = builder.Build()\n",
        "\n",
        "    # Set up a simulator to run this diagram\n",
        "    simulator = Simulator(diagram)\n",
        "    simulator.set_target_realtime_rate(1.0)\n",
        "    context = simulator.get_mutable_context()\n",
        "\n",
        "    State = namedview(\n",
        "    \"State\", [\"x\", \"z\", \"theta1\", \"theta2\", \"xdot\", \"zdot\", \"theta1dot\", \"theta2dot\"])\n",
        "    x0 = State(np.zeros(8))\n",
        "    x0.z = .15\n",
        "    x0.theta1 = 0.05\n",
        "    plant_context = plant.GetMyContextFromRoot(context)\n",
        "    plant.SetPositionsAndVelocities(plant_context, x0[:])\n",
        "\n",
        "    # Simulate\n",
        "    duration = 3.0 if running_as_notebook else 0.1 # sets a shorter duration during testing\n",
        "    simulator.AdvanceTo(duration)\n",
        "\n",
        "ballbot_floating_base_example()\n"
      ],
      "execution_count": null,
      "outputs": [
        {
          "output_type": "stream",
          "text": [
            "Connecting to meshcat-server at zmq_url=tcp://127.0.0.1:6001...\n",
            "You can open the visualizer by visiting the following URL:\n",
            "http://033aa9a08377.ngrok.io/static/\n",
            "Connected to meshcat-server.\n"
          ],
          "name": "stdout"
        }
      ]
    }
  ]
}